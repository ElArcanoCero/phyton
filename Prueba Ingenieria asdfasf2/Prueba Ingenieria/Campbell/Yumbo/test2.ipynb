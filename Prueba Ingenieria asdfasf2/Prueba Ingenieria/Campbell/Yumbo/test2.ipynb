{
 "cells": [
  {
   "cell_type": "code",
   "execution_count": 1,
   "metadata": {},
   "outputs": [],
   "source": [
    "import pandas as pd\n",
    "import os"
   ]
  },
  {
   "cell_type": "code",
   "execution_count": 2,
   "metadata": {},
   "outputs": [],
   "source": [
    "files = os.listdir(\"./Mensual\")"
   ]
  },
  {
   "cell_type": "code",
   "execution_count": 3,
   "metadata": {},
   "outputs": [],
   "source": [
    "dfs = []\n",
    "for file in files:\n",
    "    dfs.append(pd.read_excel(f\"./Mensual/{file}\"))\n",
    "\n",
    "result = pd.concat(dfs)"
   ]
  },
  {
   "cell_type": "code",
   "execution_count": 16,
   "metadata": {},
   "outputs": [],
   "source": [
    "result['DATETIME'] = pd.to_datetime(result['DATETIME'])"
   ]
  },
  {
   "cell_type": "code",
   "execution_count": 17,
   "metadata": {},
   "outputs": [],
   "source": [
    "result_sorted = result.sort_values('DATETIME')"
   ]
  },
  {
   "cell_type": "code",
   "execution_count": 22,
   "metadata": {},
   "outputs": [],
   "source": [
    "result_sorted.to_excel(\"Edificio Celsia 2024.xlsx\", index=False)"
   ]
  },
  {
   "cell_type": "code",
   "execution_count": 23,
   "metadata": {},
   "outputs": [],
   "source": [
    "result_sorted.to_parquet(\"Edificio Celsia 2024.parquet\", index=False)"
   ]
  },
  {
   "cell_type": "code",
   "execution_count": 15,
   "metadata": {},
   "outputs": [],
   "source": [
    "celsia_df = pd.read_parquet(\"Edificio Celsia 2024.parquet\").head()"
   ]
  },
  {
   "cell_type": "code",
   "execution_count": 5,
   "metadata": {},
   "outputs": [
    {
     "name": "stderr",
     "output_type": "stream",
     "text": [
      "C:\\Users\\jorge\\AppData\\Local\\Temp\\ipykernel_103980\\874194575.py:1: DtypeWarning: Columns (1,2,3,4,5,6,7,8,9,10,11,12,13,14,15) have mixed types. Specify dtype option on import or set low_memory=False.\n",
      "  df = pd.read_csv(\"Historico/Historico epsa.txt\", skiprows=1)\n"
     ]
    }
   ],
   "source": [
    "df = pd.read_csv(\"Historico/Historico epsa.txt\", skiprows=1)"
   ]
  },
  {
   "cell_type": "code",
   "execution_count": 16,
   "metadata": {},
   "outputs": [],
   "source": [
    "epsa_df = df.iloc[2:,:]"
   ]
  },
  {
   "cell_type": "code",
   "execution_count": 17,
   "metadata": {},
   "outputs": [],
   "source": [
    "epsa_df.reset_index(inplace=True, drop=True)"
   ]
  },
  {
   "cell_type": "code",
   "execution_count": 19,
   "metadata": {},
   "outputs": [
    {
     "data": {
      "text/html": [
       "<div>\n",
       "<style scoped>\n",
       "    .dataframe tbody tr th:only-of-type {\n",
       "        vertical-align: middle;\n",
       "    }\n",
       "\n",
       "    .dataframe tbody tr th {\n",
       "        vertical-align: top;\n",
       "    }\n",
       "\n",
       "    .dataframe thead th {\n",
       "        text-align: right;\n",
       "    }\n",
       "</style>\n",
       "<table border=\"1\" class=\"dataframe\">\n",
       "  <thead>\n",
       "    <tr style=\"text-align: right;\">\n",
       "      <th></th>\n",
       "      <th>DATETIME</th>\n",
       "      <th>DirVelMax5min (°)</th>\n",
       "      <th>DirVientoAvg5min (º)</th>\n",
       "      <th>Hum_Relativa_Avg (%)</th>\n",
       "      <th>Intensidad_ultimo_min_mmh (mmh)</th>\n",
       "      <th>Presion_Bar_Avg (hPa)</th>\n",
       "      <th>Punto_Rocio_Avg (°C)</th>\n",
       "      <th>Rad_Solar1_Avg (W/m2)</th>\n",
       "      <th>Rad_Solar2_Avg (W/m2)</th>\n",
       "      <th>Temp_Ambiente_Avg (°C)</th>\n",
       "      <th>LLuvia_total_Tot (mm)</th>\n",
       "      <th>Vel_Viento (m/s)</th>\n",
       "      <th>VelVientoMax5min (m/s)</th>\n",
       "      <th>VelVientoAvg5min (m/s)</th>\n",
       "      <th>Dir_Viento (°)</th>\n",
       "    </tr>\n",
       "  </thead>\n",
       "  <tbody>\n",
       "    <tr>\n",
       "      <th>0</th>\n",
       "      <td>2024-03-06</td>\n",
       "      <td>148</td>\n",
       "      <td>136.0</td>\n",
       "      <td>73.16</td>\n",
       "      <td>0.0</td>\n",
       "      <td>902.4431</td>\n",
       "      <td>19.65</td>\n",
       "      <td>0.0</td>\n",
       "      <td>9</td>\n",
       "      <td>24.77</td>\n",
       "      <td>5852.0</td>\n",
       "      <td>0.6</td>\n",
       "      <td>1.98</td>\n",
       "      <td>1.098</td>\n",
       "      <td>181</td>\n",
       "    </tr>\n",
       "  </tbody>\n",
       "</table>\n",
       "</div>"
      ],
      "text/plain": [
       "    DATETIME  DirVelMax5min (°)  DirVientoAvg5min (º)  Hum_Relativa_Avg (%)  \\\n",
       "0 2024-03-06                148                 136.0                 73.16   \n",
       "\n",
       "   Intensidad_ultimo_min_mmh (mmh)  Presion_Bar_Avg (hPa)  \\\n",
       "0                              0.0               902.4431   \n",
       "\n",
       "   Punto_Rocio_Avg (°C)  Rad_Solar1_Avg (W/m2)  Rad_Solar2_Avg (W/m2)  \\\n",
       "0                 19.65                    0.0                      9   \n",
       "\n",
       "   Temp_Ambiente_Avg (°C)  LLuvia_total_Tot (mm)  Vel_Viento (m/s)  \\\n",
       "0                   24.77                 5852.0               0.6   \n",
       "\n",
       "   VelVientoMax5min (m/s)  VelVientoAvg5min (m/s)  Dir_Viento (°)  \n",
       "0                    1.98                   1.098             181  "
      ]
     },
     "execution_count": 19,
     "metadata": {},
     "output_type": "execute_result"
    }
   ],
   "source": [
    "celsia_df.head(1)"
   ]
  },
  {
   "cell_type": "code",
   "execution_count": 21,
   "metadata": {},
   "outputs": [
    {
     "data": {
      "text/plain": [
       "Index(['DATETIME', 'DirVelMax5min (°)', 'DirVientoAvg5min (º)',\n",
       "       'Hum_Relativa_Avg (%)', 'Intensidad_ultimo_min_mmh (mmh)',\n",
       "       'Presion_Bar_Avg (hPa)', 'Punto_Rocio_Avg (°C)',\n",
       "       'Rad_Solar1_Avg (W/m2)', 'Rad_Solar2_Avg (W/m2)',\n",
       "       'Temp_Ambiente_Avg (°C)', 'LLuvia_total_Tot (mm)', 'Vel_Viento (m/s)',\n",
       "       'VelVientoMax5min (m/s)', 'VelVientoAvg5min (m/s)', 'Dir_Viento (°)'],\n",
       "      dtype='object')"
      ]
     },
     "execution_count": 21,
     "metadata": {},
     "output_type": "execute_result"
    }
   ],
   "source": [
    "celsia_df.columns"
   ]
  },
  {
   "cell_type": "code",
   "execution_count": null,
   "metadata": {},
   "outputs": [],
   "source": [
    "# celsia_df = celsia_df[['Date',  'Humidity', 'WindSpeed','Temperature', 'WindDirection', 'Rain']]    "
   ]
  },
  {
   "cell_type": "code",
   "execution_count": 22,
   "metadata": {},
   "outputs": [
    {
     "data": {
      "text/plain": [
       "Index(['TIMESTAMP', 'RECORD', 'Dir_Viento', 'DirVelMax5min',\n",
       "       'DirVientoAvg5min', 'Hum_Relativa_Avg', 'Intensidad_ultimo_min_mmh',\n",
       "       'Presion_Bar_Avg', 'Punto_Rocio_Avg', 'Rad_Solar1_Avg',\n",
       "       'Rad_Solar2_Avg', 'Temp_Ambiente_Avg', 'LLuvia_total_Tot', 'Vel_Viento',\n",
       "       'VelVientoMax5min', 'VelVientoAvg5min'],\n",
       "      dtype='object')"
      ]
     },
     "execution_count": 22,
     "metadata": {},
     "output_type": "execute_result"
    }
   ],
   "source": [
    "epsa_df.columns"
   ]
  },
  {
   "cell_type": "code",
   "execution_count": null,
   "metadata": {},
   "outputs": [],
   "source": []
  }
 ],
 "metadata": {
  "kernelspec": {
   "display_name": "Python 3",
   "language": "python",
   "name": "python3"
  },
  "language_info": {
   "codemirror_mode": {
    "name": "ipython",
    "version": 3
   },
   "file_extension": ".py",
   "mimetype": "text/x-python",
   "name": "python",
   "nbconvert_exporter": "python",
   "pygments_lexer": "ipython3",
   "version": "3.9.13"
  }
 },
 "nbformat": 4,
 "nbformat_minor": 2
}
